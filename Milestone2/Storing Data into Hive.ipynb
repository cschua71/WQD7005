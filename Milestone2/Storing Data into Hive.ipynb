{
 "cells": [
  {
   "cell_type": "code",
   "execution_count": 5,
   "metadata": {},
   "outputs": [
    {
     "name": "stdout",
     "output_type": "stream",
     "text": [
      "[(865,)]\n",
      "[(400,)]\n"
     ]
    }
   ],
   "source": [
    "from pyhive import hive\n",
    "\n",
    "# Connect to hive\n",
    "conn = hive.Connection(host='localhost',database='default', auth='NOSASL')\n",
    "cur = conn.cursor()\n",
    "\n",
    "# Upload csv created in (1) to hive\n",
    "cur.execute(\"CREATE TABLE IF NOT EXISTS covid_main(id int, country string, confirm int, death int, cured int) ROW FORMAT DELIMITED FIELDS TERMINATED BY ',' tblproperties('skip.header.line.count'='1')\")\n",
    "cur.execute(\"LOAD DATA LOCAL INPATH 'C:\\\\Users\\\\chuac\\\\Documents\\\\UM\\\\WQD7005\\\\Project - Covid19\\\\covid-19.csv' INTO TABLE covid_main\")\n",
    "cur.execute(\"select count(*) from covid_main\")\n",
    "result = cur.fetchall()\n",
    "print(result)\n",
    "\n",
    "# Upload txt created in (2) to hive\n",
    "cur.execute(\"CREATE TABLE IF NOT EXISTS covid_twitter(line string)\")\n",
    "cur.execute(\"LOAD DATA LOCAL INPATH 'C:\\\\Users\\\\chuac\\\\Documents\\\\UM\\WQD7005\\\\Project - Covid19\\\\twitter_data.txt' INTO TABLE covid_twitter\")\n",
    "cur.execute(\"select count(*) from covid_twitter\")\n",
    "result = cur.fetchall()\n",
    "print(result)"
   ]
  },
  {
   "cell_type": "code",
   "execution_count": null,
   "metadata": {},
   "outputs": [],
   "source": []
  }
 ],
 "metadata": {
  "kernelspec": {
   "display_name": "Python 3",
   "language": "python",
   "name": "python3"
  },
  "language_info": {
   "codemirror_mode": {
    "name": "ipython",
    "version": 3
   },
   "file_extension": ".py",
   "mimetype": "text/x-python",
   "name": "python",
   "nbconvert_exporter": "python",
   "pygments_lexer": "ipython3",
   "version": "3.7.4"
  }
 },
 "nbformat": 4,
 "nbformat_minor": 2
}
