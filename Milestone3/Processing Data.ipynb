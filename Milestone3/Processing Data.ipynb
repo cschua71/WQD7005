{
 "cells": [
  {
   "cell_type": "code",
   "execution_count": 22,
   "metadata": {},
   "outputs": [],
   "source": [
    "from pyhive import hive\n",
    "import pandas as pd\n",
    "import numpy as np\n",
    "import re\n",
    "import nltk\n",
    "import string\n",
    "import datetime\n",
    "import json\n",
    "from datetime import date"
   ]
  },
  {
   "cell_type": "code",
   "execution_count": 23,
   "metadata": {},
   "outputs": [],
   "source": [
    "#today = date.today().strftime(\"%Y-%m-%d\")\n",
    "today = '2020-05-13'\n",
    "conn = hive.Connection(host='localhost',database='default', auth='NOSASL')\n"
   ]
  },
  {
   "cell_type": "code",
   "execution_count": 24,
   "metadata": {},
   "outputs": [
    {
     "data": {
      "text/html": [
       "<div>\n",
       "<style scoped>\n",
       "    .dataframe tbody tr th:only-of-type {\n",
       "        vertical-align: middle;\n",
       "    }\n",
       "\n",
       "    .dataframe tbody tr th {\n",
       "        vertical-align: top;\n",
       "    }\n",
       "\n",
       "    .dataframe thead th {\n",
       "        text-align: right;\n",
       "    }\n",
       "</style>\n",
       "<table border=\"1\" class=\"dataframe\">\n",
       "  <thead>\n",
       "    <tr style=\"text-align: right;\">\n",
       "      <th></th>\n",
       "      <th>country</th>\n",
       "      <th>confirm</th>\n",
       "      <th>death</th>\n",
       "      <th>cured</th>\n",
       "    </tr>\n",
       "  </thead>\n",
       "  <tbody>\n",
       "    <tr>\n",
       "      <td>0</td>\n",
       "      <td>Worldwide</td>\n",
       "      <td>4278180.0</td>\n",
       "      <td>292376.0</td>\n",
       "      <td>1502620.0</td>\n",
       "    </tr>\n",
       "    <tr>\n",
       "      <td>1</td>\n",
       "      <td>United States</td>\n",
       "      <td>1400741.0</td>\n",
       "      <td>83082.0</td>\n",
       "      <td>237256.0</td>\n",
       "    </tr>\n",
       "    <tr>\n",
       "      <td>2</td>\n",
       "      <td>Russia</td>\n",
       "      <td>242271.0</td>\n",
       "      <td>2212.0</td>\n",
       "      <td>48003.0</td>\n",
       "    </tr>\n",
       "    <tr>\n",
       "      <td>3</td>\n",
       "      <td>Spain</td>\n",
       "      <td>228691.0</td>\n",
       "      <td>27104.0</td>\n",
       "      <td>140823.0</td>\n",
       "    </tr>\n",
       "    <tr>\n",
       "      <td>4</td>\n",
       "      <td>United Kingdom</td>\n",
       "      <td>226463.0</td>\n",
       "      <td>32692.0</td>\n",
       "      <td>NaN</td>\n",
       "    </tr>\n",
       "  </tbody>\n",
       "</table>\n",
       "</div>"
      ],
      "text/plain": [
       "          country    confirm     death      cured\n",
       "0       Worldwide  4278180.0  292376.0  1502620.0\n",
       "1   United States  1400741.0   83082.0   237256.0\n",
       "2          Russia   242271.0    2212.0    48003.0\n",
       "3           Spain   228691.0   27104.0   140823.0\n",
       "4  United Kingdom   226463.0   32692.0        NaN"
      ]
     },
     "execution_count": 24,
     "metadata": {},
     "output_type": "execute_result"
    }
   ],
   "source": [
    "# query the table to a new dataframe\n",
    "df = pd.read_sql(\"SELECT country, confirm, death, cured FROM covid_main where pdate ='\" + today +\"'\", conn)\n",
    "df.head()"
   ]
  },
  {
   "cell_type": "code",
   "execution_count": 25,
   "metadata": {},
   "outputs": [
    {
     "data": {
      "text/plain": [
       "country     0\n",
       "confirm    37\n",
       "death      40\n",
       "cured      53\n",
       "dtype: int64"
      ]
     },
     "execution_count": 25,
     "metadata": {},
     "output_type": "execute_result"
    }
   ],
   "source": [
    "# check if any null value\n",
    "df.isnull().sum()"
   ]
  },
  {
   "cell_type": "code",
   "execution_count": 26,
   "metadata": {},
   "outputs": [],
   "source": [
    "# replace the null value with 0\n",
    "df['confirm'] = df['confirm'].fillna(0).astype(int)\n",
    "df['death'] = df['death'].fillna(0).astype(int)\n",
    "df['cured'] = df['cured'].fillna(0).astype(int)"
   ]
  },
  {
   "cell_type": "code",
   "execution_count": 27,
   "metadata": {},
   "outputs": [
    {
     "data": {
      "text/plain": [
       "country    0\n",
       "confirm    0\n",
       "death      0\n",
       "cured      0\n",
       "dtype: int64"
      ]
     },
     "execution_count": 27,
     "metadata": {},
     "output_type": "execute_result"
    }
   ],
   "source": [
    "# check if null value still exist\n",
    "df.isnull().sum()"
   ]
  },
  {
   "cell_type": "code",
   "execution_count": 28,
   "metadata": {},
   "outputs": [
    {
     "data": {
      "text/html": [
       "<div>\n",
       "<style scoped>\n",
       "    .dataframe tbody tr th:only-of-type {\n",
       "        vertical-align: middle;\n",
       "    }\n",
       "\n",
       "    .dataframe tbody tr th {\n",
       "        vertical-align: top;\n",
       "    }\n",
       "\n",
       "    .dataframe thead th {\n",
       "        text-align: right;\n",
       "    }\n",
       "</style>\n",
       "<table border=\"1\" class=\"dataframe\">\n",
       "  <thead>\n",
       "    <tr style=\"text-align: right;\">\n",
       "      <th></th>\n",
       "      <th>line</th>\n",
       "    </tr>\n",
       "  </thead>\n",
       "  <tbody>\n",
       "    <tr>\n",
       "      <td>0</td>\n",
       "      <td>{\"created_at\": \"Wed May 13 12:36:03 +0000 202...</td>\n",
       "    </tr>\n",
       "    <tr>\n",
       "      <td>1</td>\n",
       "      <td>{\"created_at\": \"Wed May 13 12:36:03 +0000 202...</td>\n",
       "    </tr>\n",
       "    <tr>\n",
       "      <td>2</td>\n",
       "      <td>{\"created_at\": \"Wed May 13 12:36:03 +0000 202...</td>\n",
       "    </tr>\n",
       "    <tr>\n",
       "      <td>3</td>\n",
       "      <td>{\"created_at\": \"Wed May 13 12:36:03 +0000 202...</td>\n",
       "    </tr>\n",
       "    <tr>\n",
       "      <td>4</td>\n",
       "      <td>{\"created_at\": \"Wed May 13 12:36:03 +0000 202...</td>\n",
       "    </tr>\n",
       "  </tbody>\n",
       "</table>\n",
       "</div>"
      ],
      "text/plain": [
       "                                                line\n",
       "0   {\"created_at\": \"Wed May 13 12:36:03 +0000 202...\n",
       "1   {\"created_at\": \"Wed May 13 12:36:03 +0000 202...\n",
       "2   {\"created_at\": \"Wed May 13 12:36:03 +0000 202...\n",
       "3   {\"created_at\": \"Wed May 13 12:36:03 +0000 202...\n",
       "4   {\"created_at\": \"Wed May 13 12:36:03 +0000 202..."
      ]
     },
     "execution_count": 28,
     "metadata": {},
     "output_type": "execute_result"
    }
   ],
   "source": [
    "# conn = hive.Connection(host='localhost',database='default', auth='NOSASL')\n",
    "# query the table to a new dataframe\n",
    "dfT = pd.read_sql(\"SELECT line FROM covid_twitter where pdate = '\" + today +\"'\", conn)\n",
    "dfT.head()"
   ]
  },
  {
   "cell_type": "code",
   "execution_count": 29,
   "metadata": {},
   "outputs": [
    {
     "data": {
      "text/html": [
       "<div>\n",
       "<style scoped>\n",
       "    .dataframe tbody tr th:only-of-type {\n",
       "        vertical-align: middle;\n",
       "    }\n",
       "\n",
       "    .dataframe tbody tr th {\n",
       "        vertical-align: top;\n",
       "    }\n",
       "\n",
       "    .dataframe thead th {\n",
       "        text-align: right;\n",
       "    }\n",
       "</style>\n",
       "<table border=\"1\" class=\"dataframe\">\n",
       "  <thead>\n",
       "    <tr style=\"text-align: right;\">\n",
       "      <th></th>\n",
       "      <th>id</th>\n",
       "      <th>created_at</th>\n",
       "      <th>text</th>\n",
       "    </tr>\n",
       "  </thead>\n",
       "  <tbody>\n",
       "    <tr>\n",
       "      <td>0</td>\n",
       "      <td>1260549368094089216</td>\n",
       "      <td>2020-05-13 12:36:03+00:00</td>\n",
       "      <td>coronavirus covid19 and the rise of remote rec...</td>\n",
       "    </tr>\n",
       "    <tr>\n",
       "      <td>1</td>\n",
       "      <td>1260549367888515072</td>\n",
       "      <td>2020-05-13 12:36:03+00:00</td>\n",
       "      <td>no referral from a medical professional or hea...</td>\n",
       "    </tr>\n",
       "    <tr>\n",
       "      <td>2</td>\n",
       "      <td>1260549367410253826</td>\n",
       "      <td>2020-05-13 12:36:03+00:00</td>\n",
       "      <td>the most outrageously awesome ways tech compan...</td>\n",
       "    </tr>\n",
       "    <tr>\n",
       "      <td>3</td>\n",
       "      <td>1260549366470914048</td>\n",
       "      <td>2020-05-13 12:36:03+00:00</td>\n",
       "      <td>he warned of the covid19 pandemic early on — n...</td>\n",
       "    </tr>\n",
       "    <tr>\n",
       "      <td>4</td>\n",
       "      <td>1260549365577457667</td>\n",
       "      <td>2020-05-13 12:36:03+00:00</td>\n",
       "      <td>joanamamombe as an honourable member of parlia...</td>\n",
       "    </tr>\n",
       "  </tbody>\n",
       "</table>\n",
       "</div>"
      ],
      "text/plain": [
       "                    id                created_at  \\\n",
       "0  1260549368094089216 2020-05-13 12:36:03+00:00   \n",
       "1  1260549367888515072 2020-05-13 12:36:03+00:00   \n",
       "2  1260549367410253826 2020-05-13 12:36:03+00:00   \n",
       "3  1260549366470914048 2020-05-13 12:36:03+00:00   \n",
       "4  1260549365577457667 2020-05-13 12:36:03+00:00   \n",
       "\n",
       "                                                text  \n",
       "0  coronavirus covid19 and the rise of remote rec...  \n",
       "1  no referral from a medical professional or hea...  \n",
       "2  the most outrageously awesome ways tech compan...  \n",
       "3  he warned of the covid19 pandemic early on — n...  \n",
       "4  joanamamombe as an honourable member of parlia...  "
      ]
     },
     "execution_count": 29,
     "metadata": {},
     "output_type": "execute_result"
    }
   ],
   "source": [
    "tweets = []\n",
    "for line in dfT['line']:\n",
    "    tweets.append(json.loads(line))\n",
    "\n",
    "#columns of the csv file\n",
    "COLS = ['id', 'created_at', 'text']\n",
    "\n",
    "RDB = {}\n",
    "for var in COLS:\n",
    "    Text = []\n",
    "    for i in range(0,len(tweets)):\n",
    "        Text.append(tweets[i][var])\n",
    "    RDB[var]=Text\n",
    "\n",
    "#Emoji patterns\n",
    "emoji_pattern = re.compile(\"[\"\n",
    "         u\"\\U0001F600-\\U0001F64F\"  # emoticons\n",
    "         u\"\\U0001F300-\\U0001F5FF\"  # symbols & pictographs\n",
    "         u\"\\U0001F680-\\U0001F6FF\"  # transport & map symbols\n",
    "         u\"\\U0001F1E0-\\U0001F1FF\"  # flags (iOS)\n",
    "         u\"\\U00002702-\\U000027B0\"\n",
    "         u\"\\U000024C2-\\U0001F251\"\n",
    "         \"]+\", flags=re.UNICODE)\n",
    "\n",
    "##Cleaning & Convert Twitter Data to dataframe\n",
    "def TwitterCleaning(DB):\n",
    "    \n",
    "    HDB = pd.DataFrame(DB)\n",
    "    \n",
    "    #Converting Datetime\n",
    "    HDB['created_at'] = pd.to_datetime(HDB['created_at'])\n",
    "\n",
    "    #Cleaning HTML Tags\n",
    "    HDB['text']=HDB['text'].apply(lambda x: re.sub('<[^>]*>','',x))\n",
    "\n",
    "    #Cleaning URL link\n",
    "    HDB['text']=HDB['text'].apply(lambda x: re.sub(r\"http\\S+\", \"\", x))\n",
    "\n",
    "    #Cleaning punctuations\n",
    "    HDB['text']=HDB['text'].apply(lambda x: x.translate(str.maketrans('', '', string.punctuation)))\n",
    "\n",
    "    #lower Case\n",
    "    HDB['text']=HDB['text'].apply(lambda x: x.lower())\n",
    "    \n",
    "    #Remove Emoji\n",
    "    HDB['text']=HDB['text'].apply(lambda x: emoji_pattern.sub(r'',x))\n",
    "   \n",
    "    return HDB\n",
    "\n",
    "df2 = TwitterCleaning(RDB)\n",
    "df2.head()"
   ]
  },
  {
   "cell_type": "code",
   "execution_count": null,
   "metadata": {},
   "outputs": [],
   "source": []
  }
 ],
 "metadata": {
  "kernelspec": {
   "display_name": "Python 3",
   "language": "python",
   "name": "python3"
  },
  "language_info": {
   "codemirror_mode": {
    "name": "ipython",
    "version": 3
   },
   "file_extension": ".py",
   "mimetype": "text/x-python",
   "name": "python",
   "nbconvert_exporter": "python",
   "pygments_lexer": "ipython3",
   "version": "3.7.4"
  }
 },
 "nbformat": 4,
 "nbformat_minor": 2
}
