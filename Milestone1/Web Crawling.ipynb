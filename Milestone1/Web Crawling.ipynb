{
 "cells": [
  {
   "cell_type": "code",
   "execution_count": null,
   "metadata": {
    "scrolled": false
   },
   "outputs": [],
   "source": [
    "from selenium import webdriver\n",
    "\n",
    "url = 'https://covid.theedgemarkets.com/#/'\n",
    "driver = webdriver.Chrome()\n",
    "driver.implicitly_wait(20)\n",
    "driver.get(url)\n",
    "driver.implicitly_wait(20)\n",
    "tables = driver.find_elements_by_tag_name('table')\n",
    "table = tables[2]\n",
    "body = table.find_element_by_tag_name('tbody')\n",
    "rows = body.find_elements_by_tag_name('tr')\n",
    "\n",
    "cases = []\n",
    "for row in rows:\n",
    "    cells = row.find_elements_by_tag_name('td')\n",
    "    case = {}\n",
    "    case['Country'] = cells[0].text\n",
    "    case['Confirmed'] = cells[1].text\n",
    "    case['New'] = cells[2].text  \n",
    "    case['Deaths'] = cells[3].text  \n",
    "    case['Cured'] = cells[4].text  \n",
    "    cases.append(cases)\n",
    "\n",
    "df = pd.DataFrame(cases)\n",
    "df.head()\n",
    "df.to_csv('covid-19.csv')\n",
    "\n",
    "driver.close()"
   ]
  },
  {
   "cell_type": "code",
   "execution_count": 35,
   "metadata": {},
   "outputs": [
    {
     "name": "stdout",
     "output_type": "stream",
     "text": [
      "Scraping twitter top 100 post on covid19..\n",
      "Done!\n"
     ]
    }
   ],
   "source": [
    "## Web crawling for twitter post on COVID-19 issue\n",
    "import twitter\n",
    "import numpy as np \n",
    "import json \n",
    "import pandas as pd\n",
    "\n",
    "print('Scraping twitter top 100 post on covid19..')\n",
    "\n",
    "# initialize api instance\n",
    "twitter_api = twitter.Api(consumer_key='XXXXXXXX',\n",
    "                        consumer_secret='XXXXXXXX',\n",
    "                        access_token_key='XXXXXXXX',\n",
    "                        access_token_secret='XXXXXXXX')\n",
    "\n",
    "# test authentication\n",
    "#print(twitter_api.VerifyCredentials())\n",
    "\n",
    "search_keyword = 'covid-19 OR wuhanvirus OR coronovirus -filter:retweets'\n",
    "\n",
    "try:\n",
    "    tweets = twitter_api.GetSearch(term = search_keyword,lang='en',result_type='recent',count = 100)\n",
    "except:\n",
    "    print(\"Unfortunately, something went wrong..\")\n",
    "    \n",
    "tw_data = pd.DataFrame(tweets)\n",
    "np.savetxt('twitter_data.txt', tw_data.values, fmt = \"%s\")\n",
    "print('Done!')"
   ]
  },
  {
   "cell_type": "code",
   "execution_count": null,
   "metadata": {},
   "outputs": [],
   "source": []
  }
 ],
 "metadata": {
  "kernelspec": {
   "display_name": "Python 3",
   "language": "python",
   "name": "python3"
  },
  "language_info": {
   "codemirror_mode": {
    "name": "ipython",
    "version": 3
   },
   "file_extension": ".py",
   "mimetype": "text/x-python",
   "name": "python",
   "nbconvert_exporter": "python",
   "pygments_lexer": "ipython3",
   "version": "3.7.4"
  }
 },
 "nbformat": 4,
 "nbformat_minor": 2
}
