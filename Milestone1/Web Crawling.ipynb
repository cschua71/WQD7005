{
 "cells": [
  {
   "cell_type": "code",
   "execution_count": 7,
   "metadata": {},
   "outputs": [
    {
     "name": "stdout",
     "output_type": "stream",
     "text": [
      "Scraping https://www.theedgemarkets.com/latest-news-covid19-virus\n"
     ]
    }
   ],
   "source": [
    "import requests\n",
    "import pandas as pd\n",
    "from bs4 import BeautifulSoup\n",
    "from datetime import date\n",
    "\n",
    "url = 'https://www.theedgemarkets.com/latest-news-covid19-virus'\n",
    "print('Scraping', url)\n",
    "\n",
    "co_html_doc = requests.get(url)\n",
    "soup = BeautifulSoup(co_html_doc.text, 'html.parser')\n",
    "#find table of reports\n",
    "table = soup('table')\n",
    "df = pd.read_html(str(table))\n",
    "filename = 'covid-19_' + date.today().strftime(\"%Y%m%d\") + '.csv'\n",
    "df[0].to_csv(filename)\n"
   ]
  },
  {
   "cell_type": "code",
   "execution_count": 8,
   "metadata": {},
   "outputs": [
    {
     "name": "stdout",
     "output_type": "stream",
     "text": [
      "{\"created_at\": \"Tue Feb 25 02:33:49 +0000 2020\", \"default_profile\": true, \"default_profile_image\": true, \"id\": 1232131440512421888, \"id_str\": \"1232131440512421888\", \"name\": \"CS Chua\", \"profile_background_color\": \"F5F8FA\", \"profile_image_url\": \"http://abs.twimg.com/sticky/default_profile_images/default_profile_normal.png\", \"profile_image_url_https\": \"https://abs.twimg.com/sticky/default_profile_images/default_profile_normal.png\", \"profile_link_color\": \"1DA1F2\", \"profile_sidebar_border_color\": \"C0DEED\", \"profile_sidebar_fill_color\": \"DDEEF6\", \"profile_text_color\": \"333333\", \"profile_use_background_image\": true, \"screen_name\": \"CSChua5\"}\n"
     ]
    }
   ],
   "source": [
    "import twitter\n",
    "import numpy as np \n",
    "import json \n",
    "import pandas as pd\n",
    "\n",
    "# initialize api instance\n",
    "twitter_api = twitter.Api(consumer_key='XXXXXX',\n",
    "                        consumer_secret='XXXXXXX',\n",
    "                        access_token_key='XXXXXX',\n",
    "                        access_token_secret='XXXXXXX')\n",
    "\n",
    "# test authentication\n",
    "print(twitter_api.VerifyCredentials())\n",
    "\n",
    "search_keyword = 'covid-19 OR wuhanvirus OR coronovirus -filter:retweets'\n",
    "\n",
    "try:\n",
    "    tweets = twitter_api.GetSearch(term = search_keyword,lang='en',result_type='recent',count = 100)\n",
    "except:\n",
    "    print(\"Unfortunately, something went wrong..\")\n",
    "    \n",
    "tw_data = pd.DataFrame(tweets)\n",
    "filename = 'twitter_data_' + date.today().strftime(\"%Y%m%d\") + '.txt'\n",
    "#tw_data.to_csv(filename, index=False,header=False, quoting=csv.QUOTE_NONE)\n",
    "np.savetxt(filename, tw_data.values, fmt = \"%s\")"
   ]
  },
  {
   "cell_type": "code",
   "execution_count": null,
   "metadata": {},
   "outputs": [],
   "source": []
  },
  {
   "cell_type": "code",
   "execution_count": null,
   "metadata": {},
   "outputs": [],
   "source": []
  }
 ],
 "metadata": {
  "kernelspec": {
   "display_name": "Python 3",
   "language": "python",
   "name": "python3"
  },
  "language_info": {
   "codemirror_mode": {
    "name": "ipython",
    "version": 3
   },
   "file_extension": ".py",
   "mimetype": "text/x-python",
   "name": "python",
   "nbconvert_exporter": "python",
   "pygments_lexer": "ipython3",
   "version": "3.7.4"
  }
 },
 "nbformat": 4,
 "nbformat_minor": 2
}
